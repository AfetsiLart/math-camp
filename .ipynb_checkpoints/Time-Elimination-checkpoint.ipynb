{
 "cells": [
  {
   "cell_type": "code",
   "execution_count": 1,
   "metadata": {},
   "outputs": [
    {
     "data": {
      "image/png": "[encoded data removed]",
      "text/plain": [
       "<Figure size 432x288 with 1 Axes>"
      ]
     },
     "metadata": {
      "needs_background": "light"
     },
     "output_type": "display_data"
    }
   ],
   "source": [
    "#==========================================================================\n",
    "        # Time Elimination (Sala-i-Martin and Mulligan 1999) #\n",
    "#==========================================================================\n",
    "\n",
    "from scipy.integrate import ode, solve_ivp\n",
    "import numpy as np\n",
    "import matplotlib.pyplot as plt\n",
    "\n",
    "# Policy Function\n",
    "def cprime(ssd, c, rho, cs, a, ks, theta, delta):\n",
    "    k = ks-ssd\n",
    "    \n",
    "    if k == ks:\n",
    "        return 0.5*(rho+np.sqrt(rho*rho+4*cs*(1-a)*a*(ks**(a-2))/theta));\n",
    "    else:\n",
    "        return c*(rho+delta-a*(k**(a-1)))/(theta*((k**a)-c-delta*k))\n",
    "\n",
    "\n",
    "# Parameters\n",
    "n = 0.014\n",
    "d = 0.10\n",
    "delta = n + d\n",
    "p = 0.065\n",
    "theta = 2\n",
    "a = 0.5\n",
    "rho = p - n\n",
    "\n",
    "# Steady states\n",
    "ks = (a/(rho+delta))**(1/(1-a))\n",
    "cs = (ks**a - delta*ks)\n",
    "\n",
    "# Find policy function\n",
    "k0 = ks/80\n",
    "kf = ks\n",
    "\n",
    "ssdf = ks-kf\n",
    "ssd0 = ks-k0\n",
    "\n",
    "c = solve_ivp(fun=lambda t, y: cprime(t, y, rho, cs, a, ks, theta, delta),t_span=[ssdf,ssd0],y0=[cs],method = 'RK45')\n",
    "\n",
    "cpath = c.y\n",
    "cpath = cpath.T\n",
    "ssd = c.t\n",
    "\n",
    "k = ks-ssd\n",
    "\n",
    "# Functions of k\n",
    "y = k**a\n",
    "s = (y-cpath)/y\n",
    "ys = ks**a\n",
    "kdotis0 = y-delta*k\n",
    "\n",
    "\n",
    "kn = np.linspace(0, 20)\n",
    "kndot = kn**a - delta*kn\n",
    "\n",
    "fig = plt.subplot()\n",
    "\n",
    "plt.plot(k,cpath,'--',label = 'Policy function')\n",
    "plt.plot(k,kdotis0, '-o',label = r'$\\dot{k} = 0$ Locus')\n",
    "plt.plot(kn,kndot, '--',label = r'Full path $\\dot{k} = 0$')\n",
    "plt.axvline(ks)\n",
    "plt.legend(loc = 'best')\n",
    "plt.show()"
   ]
  },
  {
   "cell_type": "code",
   "execution_count": null,
   "metadata": {},
   "outputs": [],
   "source": []
  }
 ],
 "metadata": {
  "kernelspec": {
   "display_name": "Python 3",
   "language": "python",
   "name": "python3"
  },
  "language_info": {
   "codemirror_mode": {
    "name": "ipython",
    "version": 3
   },
   "file_extension": ".py",
   "mimetype": "text/x-python",
   "name": "python",
   "nbconvert_exporter": "python",
   "pygments_lexer": "ipython3",
   "version": "3.7.4"
  }
 },
 "nbformat": 4,
 "nbformat_minor": 4
}
