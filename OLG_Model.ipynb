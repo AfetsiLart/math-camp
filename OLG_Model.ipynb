{
 "cells": [
  {
   "cell_type": "code",
   "execution_count": 1,
   "metadata": {},
   "outputs": [],
   "source": [
    "import numpy as np\n",
    "import matplotlib.pyplot as plt\n",
    "import math as m\n",
    "from scipy import stats as st\n",
    "from scipy.optimize import fsolve\n",
    "import time            # Imports system time module to time your script\n",
    "\n",
    "plt.close('all')  # close all open figures\n",
    "# -----------------------------------------------\n",
    "# Root finding\n",
    "# -----------------------------------------------\n",
    "\n",
    "# Set parameter values\n",
    "N_y     = 1.0\n",
    "N_o     = 1.0\n",
    "alpha   = 0.3\n",
    "A       = 1\n",
    "beta    = 0.9\n",
    "delta   = 0.0\n",
    "tau_L   = 0.2\n",
    "tau_K   = 0.15\n",
    "t_y     = 0.0\n",
    "t_o     = 0.0\n",
    "#\n",
    "L       = 1\n",
    "\n",
    "# -------------------------------------------------------------\n",
    "# Method 1: Root finding\n",
    "# -------------------------------------------------------------\n",
    "# Find x so that f(x) = 0\n",
    "\n",
    "# Define function of capital K so that func(K) = 0\n",
    "\n",
    "def func(K):\n",
    "    s = - K + N_y\\\n",
    "    *((beta*(1+(1-tau_K)*(alpha*A*K**(alpha-1) - delta))* \\\n",
    "    ((1-tau_L)*((1-alpha)*A*K**alpha) + t_y) - t_o) \\\n",
    "    /((1+beta)*(1. + (1-tau_K)*(alpha*A*K**(alpha-1) - delta))))\n",
    "\n",
    "    return s\n",
    "\n",
    "# Plot the function to see whether it has a root-point\n",
    "Kmin = 0.0001\n",
    "Kmax = 0.3\n",
    "\n",
    "# Span grid with gridpoints between Kmin and Kmax\n",
    "Kv = np.linspace(Kmin, Kmax, 200)\n",
    "\n",
    "# Output vector prefilled with zeros\n",
    "fKv = np.zeros(len(Kv),float) # define column vector\n",
    "\n",
    "for i,K in enumerate(Kv):\n",
    "    fKv[i] = func(K)"
   ]
  },
  {
   "cell_type": "code",
   "execution_count": 2,
   "metadata": {},
   "outputs": [
    {
     "data": {
      "image/png": "[encoded data removed]",
      "text/plain": [
       "<matplotlib.figure.Figure at 0x1fc52074630>"
      ]
     },
     "metadata": {},
     "output_type": "display_data"
    }
   ],
   "source": [
    "fig, ax = plt.subplots()\n",
    "ax.plot(Kv, fKv)\n",
    "# Plot horizontal line at zero in red\n",
    "ax.plot(Kv, np.zeros(len(Kv)), 'r')\n",
    "ax.set_title('Capital')\n",
    "plt.show()"
   ]
  },
  {
   "cell_type": "code",
   "execution_count": 3,
   "metadata": {},
   "outputs": [
    {
     "name": "stdout",
     "output_type": "stream",
     "text": [
      " \n",
      " -------------- Fsolve ------------\n",
      " -------------------------------------\n",
      " Root finding \n",
      " -------------------------------------\n",
      "K* = 0.1502\n",
      "Y* = 0.5662\n",
      "q* = 1.1310\n",
      "r* = 1.1310\n",
      "R* = 1.9613\n",
      "w* = 0.3964\n",
      " -------------------------------------\n",
      "ARC = 0.0000\n"
     ]
    }
   ],
   "source": [
    "# Use built in 'fsolve'\n",
    "print(\" \")\n",
    "print(\" -------------- Fsolve ------------\")\n",
    "solutionK = fsolve(func, 2) # starting from K = 2\n",
    "\n",
    "# Kstar is a numpy array which does not print well\n",
    "# We therefore change it into a 'pure' number\n",
    "# so we can use the print format to create a nice\n",
    "# looking output\n",
    "Kstar = solutionK[0]\n",
    "\n",
    "Ystar = A*Kstar**alpha*L**(1-alpha)\n",
    "qstar = alpha*A*Kstar**(alpha-1)\n",
    "rstar = qstar - delta\n",
    "Rstar = 1. + (1-tau_K)*(qstar - delta)\n",
    "wstar = (1.-alpha)*A*Kstar**alpha\n",
    "\n",
    "# Back out solutions for the rest of the Economy\n",
    "# ----------------------------------------------\n",
    "# Household values\n",
    "sstar = Kstar/N_y\n",
    "cystar= (1.-tau_L)*wstar + t_y - sstar\n",
    "costar= Rstar*sstar + t_o\n",
    "\n",
    "# Residual gov't consumption, thrown in the ocean\n",
    "Gstar = N_y*tau_L*wstar + N_o*tau_K*rstar*sstar\n",
    "\n",
    "# Aggregate consumption\n",
    "Cstar = N_y*cystar + N_o*costar\n",
    "\n",
    "# Check the goods market condition or Aggregate resource constraint\n",
    "ARC = Ystar - delta*Kstar - Cstar - Gstar\n",
    "\n",
    "# Print results\n",
    "print(\" -------------------------------------\")\n",
    "print(\" Root finding \")\n",
    "print(\" -------------------------------------\")\n",
    "print(\"K* = {:6.4f}\".format(Kstar))\n",
    "print(\"Y* = {:6.4f}\".format(Ystar))\n",
    "print(\"q* = {:6.4f}\".format(qstar))\n",
    "print(\"r* = {:6.4f}\".format(rstar))\n",
    "print(\"R* = {:6.4f}\".format(Rstar))\n",
    "print(\"w* = {:6.4f}\".format(wstar))\n",
    "print(\" -------------------------------------\")\n",
    "print(\"ARC = {:6.4f}\".format(ARC))"
   ]
  },
  {
   "cell_type": "code",
   "execution_count": null,
   "metadata": {},
   "outputs": [],
   "source": []
  }
 ],
 "metadata": {
  "kernelspec": {
   "display_name": "Python 3",
   "language": "python",
   "name": "python3"
  },
  "language_info": {
   "codemirror_mode": {
    "name": "ipython",
    "version": 3
   },
   "file_extension": ".py",
   "mimetype": "text/x-python",
   "name": "python",
   "nbconvert_exporter": "python",
   "pygments_lexer": "ipython3",
   "version": "3.6.5"
  }
 },
 "nbformat": 4,
 "nbformat_minor": 2
}
