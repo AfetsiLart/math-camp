{
 "cells": [
  {
   "cell_type": "markdown",
   "metadata": {},
   "source": [
    "# Problem Set I\n",
    "\n",
    "## Problem 8\n",
    "\n",
    "Analyse the continuity of\n",
    "\n",
    "a) $f(x) = 1-\\frac{1}{x}$"
   ]
  },
  {
   "cell_type": "code",
   "execution_count": 9,
   "metadata": {},
   "outputs": [
    {
     "data": {
      "image/png": "[encoded data removed]",
      "text/latex": [
       "$$\\left ( \\lim_{x \\to 0^+}\\left(1 - \\frac{1}{x}\\right), \\quad -\\infty, \\quad \\lim_{x \\to 0^-}\\left(1 - \\frac{1}{x}\\right), \\quad \\infty\\right )$$"
      ],
      "text/plain": [
       "      /    1\\            /    1\\     \n",
       "( lim |1 - -|, -oo,  lim |1 - -|, oo)\n",
       " x->0+\\    x/       x->0-\\    x/     "
      ]
     },
     "execution_count": 9,
     "metadata": {},
     "output_type": "execute_result"
    }
   ],
   "source": [
    "import numpy as np\n",
    "import matplotlib.pyplot as plt\n",
    "from sympy import *\n",
    "\n",
    "init_printing(use_unicode = False, wrap_line = False, no_global = True)\n",
    "\n",
    "x = Symbol('x', real = True)\n",
    "\n",
    "afright = Limit(1-1/x, x, 0, '+')\n",
    "afleft = Limit(1 - 1/x, x, 0, '-')\n",
    "\n",
    "afright, afright.doit(), afleft, afleft.doit()"
   ]
  },
  {
   "cell_type": "code",
   "execution_count": 14,
   "metadata": {},
   "outputs": [
    {
     "data": {
      "image/png": "[encoded data removed]",
      "text/latex": [
       "$$\\left ( \\lim_{x \\to 3^+} \\sqrt{- x^{2} + 9}, \\quad 0, \\quad \\lim_{x \\to 3^-} \\sqrt{- x^{2} + 9}, \\quad 0\\right )$$"
      ],
      "text/plain": [
       "         __________             __________    \n",
       "        /    2                 /    2         \n",
       "( lim \\/  - x  + 9 , 0,  lim \\/  - x  + 9 , 0)\n",
       " x->3+                  x->3-                 "
      ]
     },
     "execution_count": 14,
     "metadata": {},
     "output_type": "execute_result"
    }
   ],
   "source": [
    "afright = Limit(sqrt(9-x**2), x, 3, '+')\n",
    "afleft = Limit(sqrt(9-x**2), x, 3, '-')\n",
    "\n",
    "afright, afright.doit(domain = Reals), afleft, afleft.doit(domain = Reals)"
   ]
  },
  {
   "cell_type": "code",
   "execution_count": 21,
   "metadata": {},
   "outputs": [
    {
     "data": {
      "image/png": "[encoded data removed]",
      "text/latex": [
       "$$\\sqrt{- x^{2} + 9}$$"
      ],
      "text/plain": [
       "   __________\n",
       "  /    2     \n",
       "\\/  - x  + 9 "
      ]
     },
     "execution_count": 21,
     "metadata": {},
     "output_type": "execute_result"
    }
   ],
   "source": [
    "f = Function('f', real = True)\n",
    "\n",
    "class my_func(Function):\n",
    "    @classmethod\n",
    "    def eval(cls, x):\n",
    "        return sqrt(9-x**2)\n",
    "\n",
    "my_func(x)"
   ]
  },
  {
   "cell_type": "code",
   "execution_count": 22,
   "metadata": {},
   "outputs": [
    {
     "data": {
      "image/png": "[encoded data removed]",
      "text/latex": [
       "$$\\left ( \\lim_{x \\to 3^+} \\sqrt{- x^{2} + 9}, \\quad 0, \\quad \\lim_{x \\to 3^-} \\sqrt{- x^{2} + 9}, \\quad 0\\right )$$"
      ],
      "text/plain": [
       "         __________             __________    \n",
       "        /    2                 /    2         \n",
       "( lim \\/  - x  + 9 , 0,  lim \\/  - x  + 9 , 0)\n",
       " x->3+                  x->3-                 "
      ]
     },
     "execution_count": 22,
     "metadata": {},
     "output_type": "execute_result"
    }
   ],
   "source": [
    "afright = Limit(my_func(x), x, 3, '+')\n",
    "afleft = Limit(my_func(x), x, 3, '-')\n",
    "\n",
    "afright, afright.doit(domain = Reals), afleft, afleft.doit(domain = Reals)"
   ]
  },
  {
   "cell_type": "code",
   "execution_count": null,
   "metadata": {},
   "outputs": [],
   "source": []
  }
 ],
 "metadata": {
  "kernelspec": {
   "display_name": "Python 3",
   "language": "python",
   "name": "python3"
  },
  "language_info": {
   "codemirror_mode": {
    "name": "ipython",
    "version": 3
   },
   "file_extension": ".py",
   "mimetype": "text/x-python",
   "name": "python",
   "nbconvert_exporter": "python",
   "pygments_lexer": "ipython3",
   "version": "3.6.6"
  }
 },
 "nbformat": 4,
 "nbformat_minor": 2
}
